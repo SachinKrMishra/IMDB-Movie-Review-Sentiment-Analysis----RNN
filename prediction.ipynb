{
 "cells": [
  {
   "cell_type": "code",
   "execution_count": 1,
   "id": "aeea5937",
   "metadata": {},
   "outputs": [],
   "source": [
    "## Step 1 : Import Libraries \n",
    "import numpy as np\n",
    "import tensorflow as tf\n",
    "from tensorflow.keras.datasets import imdb\n",
    "from tensorflow.keras.preprocessing import sequence\n",
    "from tensorflow.keras.models import load_model\n",
    "from tensorflow.keras.layers import Embedding, SimpleRNN, Dense"
   ]
  },
  {
   "cell_type": "code",
   "execution_count": 2,
   "id": "c9204b4c",
   "metadata": {},
   "outputs": [],
   "source": [
    "## Step 2 : Load the imdb dataset and word index\n",
    "word_index = imdb.get_word_index()\n",
    "reverse_word_index = {value:key for key, value in word_index.items()}"
   ]
  },
  {
   "cell_type": "code",
   "execution_count": 3,
   "metadata": {},
   "outputs": [
    {
     "name": "stderr",
     "output_type": "stream",
     "text": [
      "WARNING:absl:Compiled the loaded model, but the compiled metrics have yet to be built. `model.compile_metrics` will be empty until you train or evaluate the model.\n"
     ]
    },
    {
     "data": {
      "text/html": [
       "<pre style=\"white-space:pre;overflow-x:auto;line-height:normal;font-family:Menlo,'DejaVu Sans Mono',consolas,'Courier New',monospace\"><span style=\"font-weight: bold\">Model: \"sequential\"</span>\n",
       "</pre>\n"
      ],
      "text/plain": [
       "\u001b[1mModel: \"sequential\"\u001b[0m\n"
      ]
     },
     "metadata": {},
     "output_type": "display_data"
    },
    {
     "data": {
      "text/html": [
       "<pre style=\"white-space:pre;overflow-x:auto;line-height:normal;font-family:Menlo,'DejaVu Sans Mono',consolas,'Courier New',monospace\">┏━━━━━━━━━━━━━━━━━━━━━━━━━━━━━━━━━┳━━━━━━━━━━━━━━━━━━━━━━━━┳━━━━━━━━━━━━━━━┓\n",
       "┃<span style=\"font-weight: bold\"> Layer (type)                    </span>┃<span style=\"font-weight: bold\"> Output Shape           </span>┃<span style=\"font-weight: bold\">       Param # </span>┃\n",
       "┡━━━━━━━━━━━━━━━━━━━━━━━━━━━━━━━━━╇━━━━━━━━━━━━━━━━━━━━━━━━╇━━━━━━━━━━━━━━━┩\n",
       "│ embedding (<span style=\"color: #0087ff; text-decoration-color: #0087ff\">Embedding</span>)           │ (<span style=\"color: #00d7ff; text-decoration-color: #00d7ff\">None</span>, <span style=\"color: #00af00; text-decoration-color: #00af00\">500</span>, <span style=\"color: #00af00; text-decoration-color: #00af00\">128</span>)       │     <span style=\"color: #00af00; text-decoration-color: #00af00\">1,280,000</span> │\n",
       "├─────────────────────────────────┼────────────────────────┼───────────────┤\n",
       "│ simple_rnn (<span style=\"color: #0087ff; text-decoration-color: #0087ff\">SimpleRNN</span>)          │ (<span style=\"color: #00d7ff; text-decoration-color: #00d7ff\">None</span>, <span style=\"color: #00af00; text-decoration-color: #00af00\">128</span>)            │        <span style=\"color: #00af00; text-decoration-color: #00af00\">32,896</span> │\n",
       "├─────────────────────────────────┼────────────────────────┼───────────────┤\n",
       "│ dense (<span style=\"color: #0087ff; text-decoration-color: #0087ff\">Dense</span>)                   │ (<span style=\"color: #00d7ff; text-decoration-color: #00d7ff\">None</span>, <span style=\"color: #00af00; text-decoration-color: #00af00\">1</span>)              │           <span style=\"color: #00af00; text-decoration-color: #00af00\">129</span> │\n",
       "└─────────────────────────────────┴────────────────────────┴───────────────┘\n",
       "</pre>\n"
      ],
      "text/plain": [
       "┏━━━━━━━━━━━━━━━━━━━━━━━━━━━━━━━━━┳━━━━━━━━━━━━━━━━━━━━━━━━┳━━━━━━━━━━━━━━━┓\n",
       "┃\u001b[1m \u001b[0m\u001b[1mLayer (type)                   \u001b[0m\u001b[1m \u001b[0m┃\u001b[1m \u001b[0m\u001b[1mOutput Shape          \u001b[0m\u001b[1m \u001b[0m┃\u001b[1m \u001b[0m\u001b[1m      Param #\u001b[0m\u001b[1m \u001b[0m┃\n",
       "┡━━━━━━━━━━━━━━━━━━━━━━━━━━━━━━━━━╇━━━━━━━━━━━━━━━━━━━━━━━━╇━━━━━━━━━━━━━━━┩\n",
       "│ embedding (\u001b[38;5;33mEmbedding\u001b[0m)           │ (\u001b[38;5;45mNone\u001b[0m, \u001b[38;5;34m500\u001b[0m, \u001b[38;5;34m128\u001b[0m)       │     \u001b[38;5;34m1,280,000\u001b[0m │\n",
       "├─────────────────────────────────┼────────────────────────┼───────────────┤\n",
       "│ simple_rnn (\u001b[38;5;33mSimpleRNN\u001b[0m)          │ (\u001b[38;5;45mNone\u001b[0m, \u001b[38;5;34m128\u001b[0m)            │        \u001b[38;5;34m32,896\u001b[0m │\n",
       "├─────────────────────────────────┼────────────────────────┼───────────────┤\n",
       "│ dense (\u001b[38;5;33mDense\u001b[0m)                   │ (\u001b[38;5;45mNone\u001b[0m, \u001b[38;5;34m1\u001b[0m)              │           \u001b[38;5;34m129\u001b[0m │\n",
       "└─────────────────────────────────┴────────────────────────┴───────────────┘\n"
      ]
     },
     "metadata": {},
     "output_type": "display_data"
    },
    {
     "data": {
      "text/html": [
       "<pre style=\"white-space:pre;overflow-x:auto;line-height:normal;font-family:Menlo,'DejaVu Sans Mono',consolas,'Courier New',monospace\"><span style=\"font-weight: bold\"> Total params: </span><span style=\"color: #00af00; text-decoration-color: #00af00\">1,313,027</span> (5.01 MB)\n",
       "</pre>\n"
      ],
      "text/plain": [
       "\u001b[1m Total params: \u001b[0m\u001b[38;5;34m1,313,027\u001b[0m (5.01 MB)\n"
      ]
     },
     "metadata": {},
     "output_type": "display_data"
    },
    {
     "data": {
      "text/html": [
       "<pre style=\"white-space:pre;overflow-x:auto;line-height:normal;font-family:Menlo,'DejaVu Sans Mono',consolas,'Courier New',monospace\"><span style=\"font-weight: bold\"> Trainable params: </span><span style=\"color: #00af00; text-decoration-color: #00af00\">1,313,025</span> (5.01 MB)\n",
       "</pre>\n"
      ],
      "text/plain": [
       "\u001b[1m Trainable params: \u001b[0m\u001b[38;5;34m1,313,025\u001b[0m (5.01 MB)\n"
      ]
     },
     "metadata": {},
     "output_type": "display_data"
    },
    {
     "data": {
      "text/html": [
       "<pre style=\"white-space:pre;overflow-x:auto;line-height:normal;font-family:Menlo,'DejaVu Sans Mono',consolas,'Courier New',monospace\"><span style=\"font-weight: bold\"> Non-trainable params: </span><span style=\"color: #00af00; text-decoration-color: #00af00\">0</span> (0.00 B)\n",
       "</pre>\n"
      ],
      "text/plain": [
       "\u001b[1m Non-trainable params: \u001b[0m\u001b[38;5;34m0\u001b[0m (0.00 B)\n"
      ]
     },
     "metadata": {},
     "output_type": "display_data"
    },
    {
     "data": {
      "text/html": [
       "<pre style=\"white-space:pre;overflow-x:auto;line-height:normal;font-family:Menlo,'DejaVu Sans Mono',consolas,'Courier New',monospace\"><span style=\"font-weight: bold\"> Optimizer params: </span><span style=\"color: #00af00; text-decoration-color: #00af00\">2</span> (12.00 B)\n",
       "</pre>\n"
      ],
      "text/plain": [
       "\u001b[1m Optimizer params: \u001b[0m\u001b[38;5;34m2\u001b[0m (12.00 B)\n"
      ]
     },
     "metadata": {},
     "output_type": "display_data"
    }
   ],
   "source": [
    "## Step 3 : Load the trained model \n",
    "model = load_model('simple_rnn_imdb.h5')\n",
    "model.summary()"
   ]
  },
  {
   "cell_type": "code",
   "execution_count": 4,
   "id": "48913c1c",
   "metadata": {},
   "outputs": [
    {
     "data": {
      "text/plain": [
       "[array([[ 0.35794258,  0.4525853 ,  0.47941932, ..., -0.4907112 ,\n",
       "          0.41010526,  0.43009588],\n",
       "        [ 0.07505414,  0.10035744,  0.14275873, ..., -0.03656282,\n",
       "          0.09257977,  0.05878133],\n",
       "        [ 0.20337838,  0.19527806,  0.25604585, ..., -0.00960001,\n",
       "          0.23133156,  0.22233582],\n",
       "        ...,\n",
       "        [-0.03648085,  0.0590749 ,  0.08575875, ...,  0.15542048,\n",
       "         -0.1358595 , -0.06082201],\n",
       "        [ 0.14600362, -0.04006896, -0.04987859, ..., -0.15447254,\n",
       "          0.0434818 ,  0.14243382],\n",
       "        [-0.02459717,  0.01994839, -0.00252663, ...,  0.04015681,\n",
       "         -0.13117401, -0.17636903]], dtype=float32),\n",
       " array([[-0.12588383, -0.12270236,  0.04408185, ..., -0.09353936,\n",
       "          0.01798409, -0.08717655],\n",
       "        [ 0.14637068, -0.04537285,  0.09630295, ..., -0.04617326,\n",
       "         -0.15492365, -0.09293477],\n",
       "        [-0.04178192, -0.0751387 ,  0.0957088 , ...,  0.12930289,\n",
       "          0.02383056, -0.02711866],\n",
       "        ...,\n",
       "        [ 0.07391364,  0.0400632 , -0.22323556, ..., -0.16225848,\n",
       "         -0.10029256, -0.151418  ],\n",
       "        [-0.05130318,  0.06914345,  0.18861908, ..., -0.05483963,\n",
       "         -0.12237027,  0.17383742],\n",
       "        [-0.03979236, -0.12260717,  0.03754719, ...,  0.10736469,\n",
       "         -0.1067773 , -0.05312731]], dtype=float32),\n",
       " array([[-0.06466171,  0.0895628 ,  0.07524738, ..., -0.07819519,\n",
       "         -0.02305114, -0.2059631 ],\n",
       "        [-0.08642811, -0.10633297, -0.17147729, ...,  0.0607732 ,\n",
       "         -0.05981218,  0.0148796 ],\n",
       "        [-0.14417619,  0.02409965, -0.00538475, ..., -0.04158079,\n",
       "         -0.04768643, -0.09606964],\n",
       "        ...,\n",
       "        [ 0.02506926,  0.01511687,  0.11018948, ...,  0.00815612,\n",
       "         -0.09199413,  0.01191497],\n",
       "        [ 0.05549403, -0.0548307 ,  0.27421156, ..., -0.01130335,\n",
       "          0.03350116,  0.01662693],\n",
       "        [-0.09621305, -0.05163346, -0.04255414, ..., -0.04671948,\n",
       "          0.11091723, -0.01178714]], dtype=float32),\n",
       " array([-0.02099972, -0.02612022, -0.02045086,  0.00600178, -0.02018791,\n",
       "        -0.10441741, -0.06922751, -0.04204587, -0.02018268, -0.05187132,\n",
       "         0.0361365 , -0.10144833, -0.03816437,  0.02445411, -0.00923574,\n",
       "        -0.1071962 , -0.08373012, -0.04561813, -0.03713332,  0.02409501,\n",
       "        -0.04164872, -0.04306331, -0.08768709, -0.04314326, -0.00961228,\n",
       "        -0.04507733, -0.05192666,  0.05798663, -0.06607917, -0.08206018,\n",
       "        -0.00387527, -0.05503041,  0.01373292, -0.07014657, -0.02093562,\n",
       "        -0.0852744 ,  0.04380854, -0.05121943,  0.04389677, -0.0565684 ,\n",
       "        -0.05366648, -0.03844999, -0.02999   , -0.06683082,  0.10303884,\n",
       "        -0.0256219 , -0.01090413, -0.00651402, -0.04565942, -0.08130911,\n",
       "        -0.07047439, -0.05197697,  0.01689296, -0.05417542, -0.05431374,\n",
       "        -0.02465328,  0.00573315,  0.02631702, -0.00999938, -0.04613725,\n",
       "         0.07510662,  0.09449966, -0.00949464,  0.01353004,  0.045503  ,\n",
       "        -0.01141834,  0.06531102, -0.04963261, -0.06497298,  0.07533441,\n",
       "        -0.04879542, -0.0308179 , -0.0295583 , -0.0310479 , -0.02740249,\n",
       "         0.06435023, -0.0142202 , -0.10703037, -0.10080747, -0.03611407,\n",
       "         0.09391069, -0.07138   , -0.06245481, -0.07133444,  0.0049495 ,\n",
       "        -0.06128227,  0.01976565,  0.00534532, -0.0411332 ,  0.08135481,\n",
       "        -0.03525438, -0.01166334,  0.00148422, -0.06157307, -0.12107102,\n",
       "         0.02398459, -0.02474754, -0.02422478, -0.04847236, -0.03863368,\n",
       "        -0.01924725,  0.0038533 ,  0.05982128, -0.07529926, -0.03670194,\n",
       "        -0.03328057,  0.04043475, -0.0070889 ,  0.11669013, -0.0370602 ,\n",
       "         0.06000827, -0.01951789, -0.05129449, -0.05597796, -0.01379952,\n",
       "         0.00341784, -0.01641225,  0.03276682, -0.0058473 , -0.0354891 ,\n",
       "         0.0517894 , -0.01726128,  0.08633822,  0.02152302, -0.04912812,\n",
       "        -0.08522978, -0.04049552, -0.08119781], dtype=float32),\n",
       " array([[ 9.20881927e-01],\n",
       "        [-1.75639987e-01],\n",
       "        [ 6.54265110e-04],\n",
       "        [-1.85134029e-03],\n",
       "        [ 5.19758277e-02],\n",
       "        [ 8.00706267e-01],\n",
       "        [ 1.07684307e-01],\n",
       "        [ 4.98493351e-02],\n",
       "        [ 7.28721395e-02],\n",
       "        [ 1.48924962e-01],\n",
       "        [ 8.77578184e-02],\n",
       "        [ 1.11349158e-01],\n",
       "        [ 1.60282567e-01],\n",
       "        [ 1.17683187e-01],\n",
       "        [-3.47733259e-01],\n",
       "        [ 1.83036849e-02],\n",
       "        [ 4.63792205e-01],\n",
       "        [ 3.02983020e-02],\n",
       "        [ 8.07344854e-01],\n",
       "        [-1.35482416e-01],\n",
       "        [ 1.06629007e-01],\n",
       "        [ 2.80952603e-01],\n",
       "        [ 3.56443942e-01],\n",
       "        [ 1.09143369e-01],\n",
       "        [-1.18342221e-01],\n",
       "        [ 1.48903280e-01],\n",
       "        [ 9.08124074e-02],\n",
       "        [-9.31431726e-02],\n",
       "        [ 2.17061892e-01],\n",
       "        [ 2.33476192e-01],\n",
       "        [ 8.98414105e-02],\n",
       "        [ 1.11511216e-01],\n",
       "        [-1.81436595e-02],\n",
       "        [ 4.68720645e-02],\n",
       "        [ 1.03609018e-01],\n",
       "        [ 1.23476945e-01],\n",
       "        [-5.42408302e-02],\n",
       "        [-1.84259996e-01],\n",
       "        [ 4.14832272e-02],\n",
       "        [-2.97903810e-02],\n",
       "        [-3.07951063e-01],\n",
       "        [ 4.72123874e-03],\n",
       "        [ 1.32646353e-03],\n",
       "        [ 8.65754634e-02],\n",
       "        [-2.60505348e-01],\n",
       "        [-1.42069295e-01],\n",
       "        [-1.36548178e-02],\n",
       "        [-1.24967143e-01],\n",
       "        [-1.69797346e-01],\n",
       "        [ 1.07618496e-01],\n",
       "        [-3.56393069e-01],\n",
       "        [-3.84602994e-02],\n",
       "        [-2.59002775e-01],\n",
       "        [ 2.17583217e-02],\n",
       "        [-5.46632335e-03],\n",
       "        [ 1.40836209e-01],\n",
       "        [-4.69262838e-01],\n",
       "        [-1.01746731e-01],\n",
       "        [-4.37142670e-01],\n",
       "        [-3.93968165e-01],\n",
       "        [ 8.20093323e-03],\n",
       "        [-7.86276832e-02],\n",
       "        [-1.90403715e-01],\n",
       "        [-7.82920122e-02],\n",
       "        [-5.51140547e-01],\n",
       "        [-5.40061474e-01],\n",
       "        [-2.73644805e-01],\n",
       "        [ 8.85936692e-02],\n",
       "        [ 4.19208817e-02],\n",
       "        [-7.47361854e-02],\n",
       "        [-2.36867778e-02],\n",
       "        [ 2.91281603e-02],\n",
       "        [-3.31186295e-01],\n",
       "        [ 1.10422716e-01],\n",
       "        [ 3.40390392e-02],\n",
       "        [-5.42302616e-03],\n",
       "        [-1.18455179e-01],\n",
       "        [ 1.20728858e-01],\n",
       "        [ 2.38433406e-01],\n",
       "        [ 1.52310699e-01],\n",
       "        [-2.85904080e-01],\n",
       "        [ 9.66637135e-02],\n",
       "        [ 1.13478586e-01],\n",
       "        [ 1.08516775e-01],\n",
       "        [ 2.36115810e-02],\n",
       "        [-4.66889918e-01],\n",
       "        [-1.62465796e-01],\n",
       "        [-1.47275209e-01],\n",
       "        [ 8.62693340e-02],\n",
       "        [-2.31409684e-01],\n",
       "        [ 2.23261192e-02],\n",
       "        [-1.42600968e-01],\n",
       "        [-6.73183724e-02],\n",
       "        [-1.63835421e-01],\n",
       "        [-5.13495617e-02],\n",
       "        [-7.48757243e-01],\n",
       "        [ 5.84422462e-02],\n",
       "        [ 1.93519711e-01],\n",
       "        [-1.54635936e-01],\n",
       "        [ 3.39671895e-02],\n",
       "        [-9.71197058e-03],\n",
       "        [ 2.97783494e-01],\n",
       "        [ 1.07622075e+00],\n",
       "        [-4.13866460e-01],\n",
       "        [ 7.27263978e-04],\n",
       "        [ 8.09486508e-02],\n",
       "        [-1.12769850e-01],\n",
       "        [ 4.55760777e-01],\n",
       "        [-2.05270380e-01],\n",
       "        [ 1.54106468e-02],\n",
       "        [ 5.01705594e-02],\n",
       "        [ 3.87732714e-01],\n",
       "        [ 1.64126858e-01],\n",
       "        [ 8.48257467e-02],\n",
       "        [-8.65902659e-03],\n",
       "        [-2.15900362e-01],\n",
       "        [-9.62002277e-02],\n",
       "        [ 1.19946860e-01],\n",
       "        [ 1.96721166e-01],\n",
       "        [ 1.60359263e-01],\n",
       "        [-4.30614129e-02],\n",
       "        [ 1.92671359e-01],\n",
       "        [-2.40254790e-01],\n",
       "        [ 1.21804342e-01],\n",
       "        [-2.26472437e-01],\n",
       "        [ 1.84205826e-02],\n",
       "        [ 5.23271002e-02],\n",
       "        [ 1.31264001e-01]], dtype=float32),\n",
       " array([2.6695888], dtype=float32)]"
      ]
     },
     "execution_count": 4,
     "metadata": {},
     "output_type": "execute_result"
    }
   ],
   "source": [
    "model.get_weights()"
   ]
  },
  {
   "cell_type": "code",
   "execution_count": 7,
   "id": "b1e4b623",
   "metadata": {},
   "outputs": [],
   "source": [
    "## Step 4 : Helper functions\n",
    "## Function to decode the review \n",
    "def decode_review(encoded_review):\n",
    "    return ' '.join([reverse_word_index.get(i-3, '?') for i in encoded_review])\n",
    "\n",
    "## Function to preprocess user input\n",
    "def preprocess_text(text):\n",
    "    words = text.lower().split()\n",
    "    encoded_review = [word_index.get(word,2)+3 for word in words]\n",
    "    padded_review = sequence.pad_sequences([encoded_review], maxlen=500)\n",
    "    return padded_review"
   ]
  },
  {
   "cell_type": "code",
   "execution_count": 8,
   "id": "99cf805c",
   "metadata": {},
   "outputs": [],
   "source": [
    "## Step 5 : Prediction Function\n",
    "def predict_sentiment(review):\n",
    "    preprocessed_input = preprocess_text(review)\n",
    "    prediction = model.predict(preprocessed_input)\n",
    "    sentiment = 'Positive' if prediction[0][0] > 0.5 else 'Negative'\n",
    "    return sentiment, prediction[0][0]"
   ]
  },
  {
   "cell_type": "code",
   "execution_count": 11,
   "id": "5873af9d",
   "metadata": {},
   "outputs": [
    {
     "name": "stdout",
     "output_type": "stream",
     "text": [
      "\u001b[1m1/1\u001b[0m \u001b[32m━━━━━━━━━━━━━━━━━━━━\u001b[0m\u001b[37m\u001b[0m \u001b[1m0s\u001b[0m 61ms/step\n",
      "Review : This movie was fantastic! The acting was great and the plot was thrilling.\n",
      "Sentiment : Positive\n",
      "Prediction Score : 0.8818812370300293\n"
     ]
    }
   ],
   "source": [
    "## Step 6 : User Input and Prediction \n",
    "## Example review for prediction\n",
    "example_review = \"This movie was fantastic! The acting was great and the plot was thrilling.\"\n",
    "sentiment, score = predict_sentiment(example_review)\n",
    "\n",
    "print(f'Review : {example_review}')\n",
    "print(f'Sentiment : {sentiment}')\n",
    "print(f'Prediction Score : {score}')"
   ]
  }
 ],
 "metadata": {
  "kernelspec": {
   "display_name": "Python 3",
   "language": "python",
   "name": "python3"
  },
  "language_info": {
   "codemirror_mode": {
    "name": "ipython",
    "version": 3
   },
   "file_extension": ".py",
   "mimetype": "text/x-python",
   "name": "python",
   "nbconvert_exporter": "python",
   "pygments_lexer": "ipython3",
   "version": "3.12.3"
  }
 },
 "nbformat": 4,
 "nbformat_minor": 5
}
